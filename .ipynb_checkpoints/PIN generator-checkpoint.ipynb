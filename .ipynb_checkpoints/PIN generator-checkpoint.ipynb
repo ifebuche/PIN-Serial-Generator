{
 "cells": [
  {
   "cell_type": "code",
   "execution_count": 16,
   "metadata": {},
   "outputs": [],
   "source": [
    "from random import randint\n",
    "import os\n",
    "\n",
    "def random_with_N_digits(n):\n",
    "    \"\"\"\n",
    "    Random integer PIN generation\n",
    "    \"\"\"\n",
    "    range_start = 10**(n-1)\n",
    "    range_end = (10**n)-1\n",
    "    return randint(range_start, range_end)\n",
    "\n",
    "welcome = \"Welcome to Serial-PIN generator v1. by Fesh. \\nThis script generates 1000 PINs and serial number\"\n",
    "decor = \"#\" * 45\n",
    "print(decor, \"\\n\", welcome, \"\\n\", decor)\n",
    "print(\"\\n\", \"How long do you want the pin to be?\")\n",
    "pin_length = input(\">>> \")\n",
    "\n",
    "try:\n",
    "    pin_length = int(pin_length)\n",
    "    pins = [random_with_N_digits(pin_length) for line in range(1000)]\n",
    "    print(\"enerating {} digit PINs...\".format(pin_length))\n",
    "    \n",
    "    serial = []\n",
    "    for i, pin in enumerate(pins, 1):\n",
    "        if len(str(i)) == 1:\n",
    "            serial.append(\"00\"+str(i))\n",
    "            #print(\"00\"+str(i), pin)\n",
    "        elif len(str(i)) == 2:\n",
    "            serial.append(\"0\"+str(i))\n",
    "            #print(\"0\"+str(i), pin)\n",
    "        else:\n",
    "            serial.append(str(i))\n",
    "            #print(i, pin)\n",
    "    print(\"Choose a name to save the file with.\")\n",
    "    namer = input(\">>> \")\n",
    "    filename = namer+\".csv\"\n",
    "    \n",
    "    with open(filename, \"w\") as file:\n",
    "        for ser, pin in zip(serial, pins):\n",
    "            file.write(str(ser) + \",\" + str(pin) + \"\\n\")\n",
    "    \n",
    "    print(\"File saved in this location. {}\".format(os.getcwd()))\n",
    "    \n",
    "    #open the folder\n",
    "    os.startfile(os.getcwd())\n",
    "except:\n",
    "    print(\"{} is not an integer. Try '1' or '2' without the quotation marks\".format(pin_length))\n",
    "    print(\"Please restart the script.\")"
   ]
  },
  {
   "cell_type": "code",
   "execution_count": null,
   "metadata": {},
   "outputs": [],
   "source": []
  }
 ],
 "metadata": {
  "kernelspec": {
   "display_name": "Python 3",
   "language": "python",
   "name": "python3"
  },
  "language_info": {
   "codemirror_mode": {
    "name": "ipython",
    "version": 3
   },
   "file_extension": ".py",
   "mimetype": "text/x-python",
   "name": "python",
   "nbconvert_exporter": "python",
   "pygments_lexer": "ipython3",
   "version": "3.7.4"
  }
 },
 "nbformat": 4,
 "nbformat_minor": 2
}
